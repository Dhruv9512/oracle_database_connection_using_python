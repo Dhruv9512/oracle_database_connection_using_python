{
 "cells": [
  {
   "cell_type": "code",
   "execution_count": 13,
   "metadata": {},
   "outputs": [
    {
     "data": {
      "text/plain": [
       "array([208500., 181500., 223500., 140000., 250000.])"
      ]
     },
     "execution_count": 13,
     "metadata": {},
     "output_type": "execute_result"
    }
   ],
   "source": [
    "from sklearn.tree import DecisionTreeRegressor\n",
    "import pandas as pd\n",
    "\n",
    "df = pd.read_csv(\"C:\\\\Users\\\\dhruv sharma\\\\Downloads\\\\train.csv\")\n",
    "\n",
    "Y = df.SalePrice\n",
    "\n",
    "\n",
    "features = [\"LotArea\",\"LotFrontage\",\"MSSubClass\",\"MoSold\"]\n",
    "X = df[features]\n",
    "tree = DecisionTreeRegressor(random_state=1)\n",
    "\n",
    "tree.fit(X,Y)\n",
    "\n",
    "tree.predict(df[features].head())\n",
    "\n",
    "\n",
    "\n"
   ]
  }
 ],
 "metadata": {
  "kernelspec": {
   "display_name": "Python 3",
   "language": "python",
   "name": "python3"
  },
  "language_info": {
   "codemirror_mode": {
    "name": "ipython",
    "version": 3
   },
   "file_extension": ".py",
   "mimetype": "text/x-python",
   "name": "python",
   "nbconvert_exporter": "python",
   "pygments_lexer": "ipython3",
   "version": "3.12.1"
  }
 },
 "nbformat": 4,
 "nbformat_minor": 2
}
